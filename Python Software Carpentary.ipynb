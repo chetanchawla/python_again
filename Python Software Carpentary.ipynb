{
 "cells": [
  {
   "cell_type": "markdown",
   "metadata": {},
   "source": [
    "## We are doing a data analysis task for patients to study their inglammattion as per a new treatment for Arthiritis"
   ]
  },
  {
   "cell_type": "markdown",
   "metadata": {},
   "source": [
    "Data is in CSV format"
   ]
  },
  {
   "cell_type": "markdown",
   "metadata": {},
   "source": [
    "Data description\n",
    "- Each row has information for a single patient\n",
    "- Each column represents successive days of the clinical study\n",
    "- Each number represents the no. of inflammation bouts that a particular patient experienced on a given day\n",
    "\n",
    "Dummy Data\n",
    "\n",
    "0,0,1,3,1,2,4,7,8,3,3,3,10,5,7,4,7,7,12,18,6,13,11,11,7,7,4,6,8,8,4,4,5,7,3,4,2,3,0,0\n",
    "0,1,2,1,2,1,3,2,2,6,10,11,5,9,4,4,7,16,8,6,18,4,12,5,12,7,11,5,11,3,3,5,4,4,5,5,1,1,0,1\n",
    "0,1,1,3,3,2,6,2,5,9,5,7,4,5,4,15,5,11,9,10,19,14,12,17,7,12,11,7,4,2,10,5,4,2,2,3,2,2,1,1\n",
    "\n",
    "###### Final Task\n",
    "- Calculate average inflammation per day accross all patients\n",
    "- Plot results"
   ]
  },
  {
   "cell_type": "markdown",
   "metadata": {},
   "source": [
    "### Python Fundamentals"
   ]
  },
  {
   "cell_type": "code",
   "execution_count": 20,
   "metadata": {},
   "outputs": [
    {
     "output_type": "execute_result",
     "data": {
      "text/plain": [
       "18"
      ]
     },
     "metadata": {},
     "execution_count": 20
    }
   ],
   "source": [
    "#Arthemetics\n",
    "\n",
    "3+5*3"
   ]
  },
  {
   "cell_type": "code",
   "execution_count": 21,
   "metadata": {},
   "outputs": [],
   "source": [
    "#Assigning the value to a variable. \n",
    "a=60"
   ]
  },
  {
   "cell_type": "markdown",
   "metadata": {},
   "source": [
    "Variable names can have alphanumerics and underscores. They can't start with a number and are case sensitive\n",
    "\n",
    "3 common data types are\n",
    "- integers [a=60]\n",
    "- floating point numbers or decimals [a=60.0]\n",
    "- strings [a='is a variable'] or [a=\"is a variable\"]\n"
   ]
  },
  {
   "cell_type": "code",
   "execution_count": 22,
   "metadata": {},
   "outputs": [
    {
     "output_type": "stream",
     "name": "stdout",
     "text": [
      "60\nmy variable's value is  60\nmy variable's value is  60\n10 added to my variable is  70\n"
     ]
    }
   ],
   "source": [
    "#Printing the value of the variable\n",
    "print(a)\n",
    "\n",
    "#printing multiple variables\n",
    "b=\"my variable's value is \"\n",
    "print (b,a)\n",
    "\n",
    "#printing string and a variable\n",
    "print(\"my variable's value is \",a)\n",
    "\n",
    "#arithmetic in print function\n",
    "print(\"10 added to my variable is \", a+10)"
   ]
  },
  {
   "cell_type": "code",
   "execution_count": 23,
   "metadata": {},
   "outputs": [],
   "source": [
    "#Python has a self decration, so the variable type gets \n",
    "#decared based on the type of value it holds at the ti,e of initialization (as below)\n",
    "# b=\"a\"\n",
    "# b=b*1.5\n",
    "# print(b)"
   ]
  },
  {
   "cell_type": "code",
   "execution_count": 24,
   "metadata": {},
   "outputs": [
    {
     "output_type": "stream",
     "name": "stdout",
     "text": [
      "12.600000000000001\n"
     ]
    }
   ],
   "source": [
    "#Also, there are some errors in calcuation from FPU\n",
    "a=6\n",
    "a=a*2.1\n",
    "print(a)"
   ]
  },
  {
   "cell_type": "markdown",
   "metadata": {},
   "source": [
    "In actual terms, variable is a place in memory. It has a certain memory address and a name associated with it. The variable a refers to an address in the memory which holds n bytes of information. This number n is defined by the data type it holds and the way data is stored using python."
   ]
  },
  {
   "cell_type": "code",
   "execution_count": 25,
   "metadata": {},
   "outputs": [
    {
     "output_type": "stream",
     "name": "stdout",
     "text": [
      "95.0\n102\n<class 'float'>\n"
     ]
    }
   ],
   "source": [
    "#small question\n",
    "mass=47.5\n",
    "age=122\n",
    "mass=mass*2.0\n",
    "age=age-20\n",
    "\n",
    "#Then the value of mass is updated and is equal to its initial value multiplied by 2\n",
    "#Similarly, the value of age is updated and is equal to its initial value minus 20\n",
    "print(mass)\n",
    "print(age)\n",
    "\n",
    "#We can also print the datatype of the varable by the Python (in-built) function type() {takes the argument variable and returns the data type of the variable}\n",
    "print(type(mass))"
   ]
  },
  {
   "cell_type": "code",
   "execution_count": 26,
   "metadata": {},
   "outputs": [
    {
     "output_type": "stream",
     "name": "stdout",
     "text": [
      "Hopper Grace\n"
     ]
    }
   ],
   "source": [
    "#Assignment of 2 variables in one command\n",
    "first, second= 'Grace', 'Hopper'\n",
    "third, fourth=second, first\n",
    "print(third, fourth)"
   ]
  },
  {
   "cell_type": "markdown",
   "metadata": {},
   "source": [
    "### Analyzing Patients Data"
   ]
  },
  {
   "cell_type": "markdown",
   "metadata": {},
   "source": [
    "We'll be using a library called NumPy (Python library for Numerical Analysis)\n",
    "\n",
    "Libraries are collections of functions and constructs that can be used in Python to carry out the required tasks. These add modularity to Python. Numpy library has functions and data types for making numerical analysis easier. For example, Numpy arrays are a data-type which stores data as matrices which makes matrix calculations easy and faster (by optimizing it)."
   ]
  },
  {
   "cell_type": "code",
   "execution_count": 27,
   "metadata": {},
   "outputs": [],
   "source": [
    "#To install numpy, use-\n",
    "#!pip install numpy\n",
    "#Here, ! is used to specify that the command is supposed to be run in \n",
    "#the terminal directly."
   ]
  },
  {
   "cell_type": "code",
   "execution_count": 28,
   "metadata": {},
   "outputs": [],
   "source": [
    "#Once installed (or if already installed), import the library in the current workspace\n",
    "import numpy as np\n",
    "#np is an alias for numpy (can be anything with naming convention similar to variables)"
   ]
  },
  {
   "cell_type": "code",
   "execution_count": 29,
   "metadata": {},
   "outputs": [
    {
     "output_type": "execute_result",
     "data": {
      "text/plain": [
       "array([[0., 0., 1., ..., 3., 0., 0.],\n",
       "       [0., 1., 2., ..., 1., 0., 1.],\n",
       "       [0., 1., 1., ..., 2., 1., 1.],\n",
       "       ...,\n",
       "       [0., 1., 1., ..., 1., 1., 1.],\n",
       "       [0., 0., 0., ..., 0., 2., 0.],\n",
       "       [0., 0., 1., ..., 1., 1., 0.]])"
      ]
     },
     "metadata": {},
     "execution_count": 29
    }
   ],
   "source": [
    "#Load a csv data (inflammation-01.csv). We can also use fname='data/...' \n",
    "#in the function loadtxt, however, the function by default takes the first argument as the\n",
    "#file location\n",
    "np.loadtxt('data/inflammation-01.csv', delimiter=',')"
   ]
  },
  {
   "cell_type": "markdown",
   "metadata": {},
   "source": [
    "A function is a block of code that takes the arguments/parameters specified in the brackets () as inputs to the function, executes the code written in the function and typically returns an output.\n",
    "\n",
    "np.loadtxt() calls the function from the library numpy. It has 2 parameters\n",
    "- The name of the file (fname) - String input\n",
    "- The delimiter that separates different values on one line - String input"
   ]
  },
  {
   "cell_type": "code",
   "execution_count": 30,
   "metadata": {},
   "outputs": [
    {
     "output_type": "stream",
     "text": [
      "\u001b[1;31mSignature:\u001b[0m\n",
      "\u001b[0mnp\u001b[0m\u001b[1;33m.\u001b[0m\u001b[0mloadtxt\u001b[0m\u001b[1;33m(\u001b[0m\u001b[1;33m\n",
      "\u001b[0m    \u001b[0mfname\u001b[0m\u001b[1;33m,\u001b[0m\u001b[1;33m\n",
      "\u001b[0m    \u001b[0mdtype\u001b[0m\u001b[1;33m=\u001b[0m\u001b[1;33m<\u001b[0m\u001b[1;32mclass\u001b[0m \u001b[1;34m'float'\u001b[0m\u001b[1;33m>\u001b[0m\u001b[1;33m,\u001b[0m\u001b[1;33m\n",
      "\u001b[0m    \u001b[0mcomments\u001b[0m\u001b[1;33m=\u001b[0m\u001b[1;34m'#'\u001b[0m\u001b[1;33m,\u001b[0m\u001b[1;33m\n",
      "\u001b[0m    \u001b[0mdelimiter\u001b[0m\u001b[1;33m=\u001b[0m\u001b[1;32mNone\u001b[0m\u001b[1;33m,\u001b[0m\u001b[1;33m\n",
      "\u001b[0m    \u001b[0mconverters\u001b[0m\u001b[1;33m=\u001b[0m\u001b[1;32mNone\u001b[0m\u001b[1;33m,\u001b[0m\u001b[1;33m\n",
      "\u001b[0m    \u001b[0mskiprows\u001b[0m\u001b[1;33m=\u001b[0m\u001b[1;36m0\u001b[0m\u001b[1;33m,\u001b[0m\u001b[1;33m\n",
      "\u001b[0m    \u001b[0musecols\u001b[0m\u001b[1;33m=\u001b[0m\u001b[1;32mNone\u001b[0m\u001b[1;33m,\u001b[0m\u001b[1;33m\n",
      "\u001b[0m    \u001b[0munpack\u001b[0m\u001b[1;33m=\u001b[0m\u001b[1;32mFalse\u001b[0m\u001b[1;33m,\u001b[0m\u001b[1;33m\n",
      "\u001b[0m    \u001b[0mndmin\u001b[0m\u001b[1;33m=\u001b[0m\u001b[1;36m0\u001b[0m\u001b[1;33m,\u001b[0m\u001b[1;33m\n",
      "\u001b[0m    \u001b[0mencoding\u001b[0m\u001b[1;33m=\u001b[0m\u001b[1;34m'bytes'\u001b[0m\u001b[1;33m,\u001b[0m\u001b[1;33m\n",
      "\u001b[0m    \u001b[0mmax_rows\u001b[0m\u001b[1;33m=\u001b[0m\u001b[1;32mNone\u001b[0m\u001b[1;33m,\u001b[0m\u001b[1;33m\n",
      "\u001b[0m\u001b[1;33m)\u001b[0m\u001b[1;33m\u001b[0m\u001b[1;33m\u001b[0m\u001b[0m\n",
      "\u001b[1;31mDocstring:\u001b[0m\n",
      "Load data from a text file.\n",
      "\n",
      "Each row in the text file must have the same number of values.\n",
      "\n",
      "Parameters\n",
      "----------\n",
      "fname : file, str, or pathlib.Path\n",
      "    File, filename, or generator to read.  If the filename extension is\n",
      "    ``.gz`` or ``.bz2``, the file is first decompressed. Note that\n",
      "    generators should return byte strings.\n",
      "dtype : data-type, optional\n",
      "    Data-type of the resulting array; default: float.  If this is a\n",
      "    structured data-type, the resulting array will be 1-dimensional, and\n",
      "    each row will be interpreted as an element of the array.  In this\n",
      "    case, the number of columns used must match the number of fields in\n",
      "    the data-type.\n",
      "comments : str or sequence of str, optional\n",
      "    The characters or list of characters used to indicate the start of a\n",
      "    comment. None implies no comments. For backwards compatibility, byte\n",
      "    strings will be decoded as 'latin1'. The default is '#'.\n",
      "delimiter : str, optional\n",
      "    The string used to separate values. For backwards compatibility, byte\n",
      "    strings will be decoded as 'latin1'. The default is whitespace.\n",
      "converters : dict, optional\n",
      "    A dictionary mapping column number to a function that will parse the\n",
      "    column string into the desired value.  E.g., if column 0 is a date\n",
      "    string: ``converters = {0: datestr2num}``.  Converters can also be\n",
      "    used to provide a default value for missing data (but see also\n",
      "    `genfromtxt`): ``converters = {3: lambda s: float(s.strip() or 0)}``.\n",
      "    Default: None.\n",
      "skiprows : int, optional\n",
      "    Skip the first `skiprows` lines, including comments; default: 0.\n",
      "usecols : int or sequence, optional\n",
      "    Which columns to read, with 0 being the first. For example,\n",
      "    ``usecols = (1,4,5)`` will extract the 2nd, 5th and 6th columns.\n",
      "    The default, None, results in all columns being read.\n",
      "\n",
      "    .. versionchanged:: 1.11.0\n",
      "        When a single column has to be read it is possible to use\n",
      "        an integer instead of a tuple. E.g ``usecols = 3`` reads the\n",
      "        fourth column the same way as ``usecols = (3,)`` would.\n",
      "unpack : bool, optional\n",
      "    If True, the returned array is transposed, so that arguments may be\n",
      "    unpacked using ``x, y, z = loadtxt(...)``.  When used with a structured\n",
      "    data-type, arrays are returned for each field.  Default is False.\n",
      "ndmin : int, optional\n",
      "    The returned array will have at least `ndmin` dimensions.\n",
      "    Otherwise mono-dimensional axes will be squeezed.\n",
      "    Legal values: 0 (default), 1 or 2.\n",
      "\n",
      "    .. versionadded:: 1.6.0\n",
      "encoding : str, optional\n",
      "    Encoding used to decode the inputfile. Does not apply to input streams.\n",
      "    The special value 'bytes' enables backward compatibility workarounds\n",
      "    that ensures you receive byte arrays as results if possible and passes\n",
      "    'latin1' encoded strings to converters. Override this value to receive\n",
      "    unicode arrays and pass strings as input to converters.  If set to None\n",
      "    the system default is used. The default value is 'bytes'.\n",
      "\n",
      "    .. versionadded:: 1.14.0\n",
      "max_rows : int, optional\n",
      "    Read `max_rows` lines of content after `skiprows` lines. The default\n",
      "    is to read all the lines.\n",
      "\n",
      "    .. versionadded:: 1.16.0\n",
      "\n",
      "Returns\n",
      "-------\n",
      "out : ndarray\n",
      "    Data read from the text file.\n",
      "\n",
      "See Also\n",
      "--------\n",
      "load, fromstring, fromregex\n",
      "genfromtxt : Load data with missing values handled as specified.\n",
      "scipy.io.loadmat : reads MATLAB data files\n",
      "\n",
      "Notes\n",
      "-----\n",
      "This function aims to be a fast reader for simply formatted files.  The\n",
      "`genfromtxt` function provides more sophisticated handling of, e.g.,\n",
      "lines with missing values.\n",
      "\n",
      ".. versionadded:: 1.10.0\n",
      "\n",
      "The strings produced by the Python float.hex method can be used as\n",
      "input for floats.\n",
      "\n",
      "Examples\n",
      "--------\n",
      ">>> from io import StringIO   # StringIO behaves like a file object\n",
      ">>> c = StringIO(\"0 1\\n2 3\")\n",
      ">>> np.loadtxt(c)\n",
      "array([[0., 1.],\n",
      "       [2., 3.]])\n",
      "\n",
      ">>> d = StringIO(\"M 21 72\\nF 35 58\")\n",
      ">>> np.loadtxt(d, dtype={'names': ('gender', 'age', 'weight'),\n",
      "...                      'formats': ('S1', 'i4', 'f4')})\n",
      "array([(b'M', 21, 72.), (b'F', 35, 58.)],\n",
      "      dtype=[('gender', 'S1'), ('age', '<i4'), ('weight', '<f4')])\n",
      "\n",
      ">>> c = StringIO(\"1,0,2\\n3,0,4\")\n",
      ">>> x, y = np.loadtxt(c, delimiter=',', usecols=(0, 2), unpack=True)\n",
      ">>> x\n",
      "array([1., 3.])\n",
      ">>> y\n",
      "array([2., 4.])\n",
      "\n",
      "This example shows how `converters` can be used to convert a field\n",
      "with a trailing minus sign into a negative number.\n",
      "\n",
      ">>> s = StringIO('10.01 31.25-\\n19.22 64.31\\n17.57- 63.94')\n",
      ">>> def conv(fld):\n",
      "...     return -float(fld[:-1]) if fld.endswith(b'-') else float(fld)\n",
      "...\n",
      ">>> np.loadtxt(s, converters={0: conv, 1: conv})\n",
      "array([[ 10.01, -31.25],\n",
      "       [ 19.22,  64.31],\n",
      "       [-17.57,  63.94]])\n",
      "\u001b[1;31mFile:\u001b[0m      c:\\python36\\lib\\site-packages\\numpy\\lib\\npyio.py\n",
      "\u001b[1;31mType:\u001b[0m      function\n"
     ],
     "name": "stdout"
    }
   ],
   "source": [
    "#We can use ? (in beginning or the end) or help() function in order to get an explanation of any function from the documentation\n",
    "?np.loadtxt"
   ]
  },
  {
   "cell_type": "code",
   "execution_count": 31,
   "metadata": {},
   "outputs": [
    {
     "output_type": "stream",
     "name": "stdout",
     "text": [
      "Values present in data variable:  [[0. 0. 1. ... 3. 0. 0.]\n [0. 1. 2. ... 1. 0. 1.]\n [0. 1. 1. ... 2. 1. 1.]\n ...\n [0. 1. 1. ... 1. 1. 1.]\n [0. 0. 0. ... 0. 2. 0.]\n [0. 0. 1. ... 1. 1. 0.]]\nData Type of the variable:  <class 'numpy.ndarray'>\nElements' data type:  float64\nArray shape:  (60, 40)\n"
     ]
    }
   ],
   "source": [
    "#Assign the loaded data into a variable\n",
    "data=np.loadtxt('data/inflammation-01.csv', delimiter=',')\n",
    "print(\"Values present in data variable: \", data)\n",
    "#type(variable_name) function takes a variable as the parameter and returns its datatype\n",
    "#Here, our variable is of the data type N-dimensional NumPy array\n",
    "print(\"Data Type of the variable: \", type(data))\n",
    "#The attribute .dtype for a variable tells the data-type of elements of the array\n",
    "print(\"Elements' data type: \", data.dtype)\n",
    "#The attribute .shape tells the dimensional lengths of the numpy array, thereby, it's shape\n",
    "print(\"Array shape: \", data.shape)"
   ]
  },
  {
   "cell_type": "markdown",
   "metadata": {},
   "source": [
    "The attributes or members are the metadata about the array"
   ]
  },
  {
   "cell_type": "code",
   "execution_count": 32,
   "metadata": {},
   "outputs": [
    {
     "output_type": "stream",
     "name": "stdout",
     "text": [
      "First Element of first row is:  0.0\nFirst Element of fifth row is:  1.0\nFifth Element of first row is:  0.0\nMiddle value in data is:  13.0\n"
     ]
    }
   ],
   "source": [
    "#Getting a single element from the array, we can use [] to specify exact variable indexes\n",
    "#for the array elements we need\n",
    "#Since we have a 2D array, we will need 2 numbers to specify an element\n",
    "#In Python, array indexing starts with 0 - as this notation represnts an offset from the first value of the array\n",
    "#So, the first element is indexed at [0][0]\n",
    "#The rows move down from the first number while the columns move with the second number\n",
    "print(\"First Element of first row is: \", data[0][0])\n",
    "print(\"First Element of fifth row is: \", data[0][4])\n",
    "print(\"Fifth Element of first row is: \", data[4][0])\n",
    "print(\"Middle value in data is: \", data[30][20])"
   ]
  },
  {
   "cell_type": "code",
   "execution_count": 33,
   "metadata": {},
   "outputs": [
    {
     "output_type": "stream",
     "name": "stdout",
     "text": [
      "First five full rows of the data:\n [[ 0.  0.  1.  3.  1.  2.  4.  7.  8.  3.  3.  3. 10.  5.  7.  4.  7.  7.\n  12. 18.  6. 13. 11. 11.  7.  7.  4.  6.  8.  8.  4.  4.  5.  7.  3.  4.\n   2.  3.  0.  0.]\n [ 0.  1.  2.  1.  2.  1.  3.  2.  2.  6. 10. 11.  5.  9.  4.  4.  7. 16.\n   8.  6. 18.  4. 12.  5. 12.  7. 11.  5. 11.  3.  3.  5.  4.  4.  5.  5.\n   1.  1.  0.  1.]\n [ 0.  1.  1.  3.  3.  2.  6.  2.  5.  9.  5.  7.  4.  5.  4. 15.  5. 11.\n   9. 10. 19. 14. 12. 17.  7. 12. 11.  7.  4.  2. 10.  5.  4.  2.  2.  3.\n   2.  2.  1.  1.]\n [ 0.  0.  2.  0.  4.  2.  2.  1.  6.  7. 10.  7.  9. 13.  8.  8. 15. 10.\n  10.  7. 17.  4.  4.  7.  6. 15.  6.  4.  9. 11.  3.  5.  6.  3.  3.  4.\n   2.  3.  2.  1.]]\n10 elements each from rows 5 to 10:\n [[0. 1. 1. 3. 3. 1. 3. 5. 2. 4.]\n [0. 0. 1. 2. 2. 4. 2. 1. 6. 4.]\n [0. 0. 2. 2. 4. 2. 2. 5. 5. 8.]\n [0. 0. 1. 2. 3. 1. 2. 3. 5. 3.]\n [0. 0. 0. 3. 1. 5. 6. 5. 5. 8.]]\nall rows after 50th row and all columns till 7th coloumn for these rows:\n [[0. 0. 1. 2. 3. 4.]\n [0. 1. 2. 1. 1. 3.]\n [0. 1. 2. 2. 3. 5.]\n [0. 0. 0. 2. 4. 4.]\n [0. 0. 2. 1. 1. 4.]\n [0. 1. 2. 1. 1. 4.]\n [0. 0. 1. 3. 2. 3.]\n [0. 1. 1. 2. 2. 5.]\n [0. 1. 1. 1. 4. 1.]\n [0. 0. 0. 1. 4. 5.]\n [0. 0. 1. 0. 3. 2.]]\n"
     ]
    }
   ],
   "source": [
    "#We can slice data (take a portion of the data)\n",
    "#A section of an array is called a slice\n",
    "print(\"First five full rows of the data:\\n\", data[0:4])\n",
    "print(\"10 elements each from rows 5 to 10:\\n\", data[4:9, 0:10])\n",
    "#Open cloumns mean from start :n (by default 0 to the nth element) or from n to the end n: (till the last element of that particular dimension) \n",
    "print(\"all rows after 50th row and all columns till 7th coloumn for these rows:\\n\", data[49:,:6])"
   ]
  },
  {
   "cell_type": "code",
   "execution_count": 34,
   "metadata": {},
   "outputs": [
    {
     "output_type": "stream",
     "name": "stdout",
     "text": [
      "Current Date and Time:  Tue Feb  2 17:42:25 2021\n"
     ]
    }
   ],
   "source": [
    "#Side note\n",
    "#Not all functions require an input argument. Parantheses are written to tell Python that we are calling a function with no inputs\n",
    "#For example, the ctime() function of the package time tells the current time\n",
    "import time\n",
    "print(\"Current Date and Time: \", time.ctime())"
   ]
  },
  {
   "cell_type": "code",
   "execution_count": 35,
   "metadata": {},
   "outputs": [
    {
     "output_type": "stream",
     "name": "stdout",
     "text": [
      "Mean or average of all elements of the data array, or the average inflammation counts for all patients over all days:  6.14875\nMax value (Max number of infammations of any patient over all days):  20.0\nMin value (Min number of infammations of any patient over all days):  0.0\nStandard deviation of number of infammations of all patient over all days):  4.613833197118566\n"
     ]
    }
   ],
   "source": [
    "#NumPy analyzing functions\n",
    "print(\"Mean or average of all elements of the data array, or the average inflammation counts for all patients over all days: \",np.mean(data))\n",
    "print(\"Max value (Max number of infammations of any patient over all days): \", np.max(data))\n",
    "print(\"Min value (Min number of infammations of any patient over all days): \", np.min(data))\n",
    "print(\"Standard deviation of number of infammations of all patient over all days): \", np.std(data))"
   ]
  },
  {
   "cell_type": "code",
   "execution_count": 36,
   "metadata": {},
   "outputs": [
    {
     "output_type": "stream",
     "name": "stdout",
     "text": [
      "Maximum inflammation of  1 st  patient is:  18.0\nMinimum inflammation of  1st patient is:  0.0\n"
     ]
    }
   ],
   "source": [
    "#Getting the maximum inflammations of a given patient\n",
    "n=0\n",
    "patient_n = data[n] #Can also be used as data[0,:] which indicates to pick the 0th row and every column\n",
    "#print(patient_0)\n",
    "if((n+1)>10 and (n+1)<20):\n",
    "    th=\"th\"\n",
    "elif((n+1)%10==1):\n",
    "    th=\"st\" \n",
    "elif((n+1)%10==2):\n",
    "    th=\"nd\" \n",
    "elif((n+1)%10==3):\n",
    "    th=\"rd\" \n",
    "else:\n",
    "    th=\"th\"\n",
    "print(\"Maximum inflammation of \",n+1, th,\" patient is: \",np.max(patient_n))\n",
    "#Or\n",
    "print(\"Minimum inflammation of \",n+1,\"\\bst patient is: \",np.min(data[n]))\n",
    "#Here \\b is the regular expression telling the print pointer to go Back by one character"
   ]
  },
  {
   "cell_type": "code",
   "execution_count": 54,
   "metadata": {},
   "outputs": [
    {
     "output_type": "stream",
     "text": [
      "\u001b[1;31mSignature:\u001b[0m \u001b[0mnp\u001b[0m\u001b[1;33m.\u001b[0m\u001b[0mmean\u001b[0m\u001b[1;33m(\u001b[0m\u001b[0ma\u001b[0m\u001b[1;33m,\u001b[0m \u001b[0maxis\u001b[0m\u001b[1;33m=\u001b[0m\u001b[1;32mNone\u001b[0m\u001b[1;33m,\u001b[0m \u001b[0mdtype\u001b[0m\u001b[1;33m=\u001b[0m\u001b[1;32mNone\u001b[0m\u001b[1;33m,\u001b[0m \u001b[0mout\u001b[0m\u001b[1;33m=\u001b[0m\u001b[1;32mNone\u001b[0m\u001b[1;33m,\u001b[0m \u001b[0mkeepdims\u001b[0m\u001b[1;33m=\u001b[0m\u001b[1;33m<\u001b[0m\u001b[0mno\u001b[0m \u001b[0mvalue\u001b[0m\u001b[1;33m>\u001b[0m\u001b[1;33m)\u001b[0m\u001b[1;33m\u001b[0m\u001b[1;33m\u001b[0m\u001b[0m\n",
      "\u001b[1;31mDocstring:\u001b[0m\n",
      "Compute the arithmetic mean along the specified axis.\n",
      "\n",
      "Returns the average of the array elements.  The average is taken over\n",
      "the flattened array by default, otherwise over the specified axis.\n",
      "`float64` intermediate and return values are used for integer inputs.\n",
      "\n",
      "Parameters\n",
      "----------\n",
      "a : array_like\n",
      "    Array containing numbers whose mean is desired. If `a` is not an\n",
      "    array, a conversion is attempted.\n",
      "axis : None or int or tuple of ints, optional\n",
      "    Axis or axes along which the means are computed. The default is to\n",
      "    compute the mean of the flattened array.\n",
      "\n",
      "    .. versionadded:: 1.7.0\n",
      "\n",
      "    If this is a tuple of ints, a mean is performed over multiple axes,\n",
      "    instead of a single axis or all the axes as before.\n",
      "dtype : data-type, optional\n",
      "    Type to use in computing the mean.  For integer inputs, the default\n",
      "    is `float64`; for floating point inputs, it is the same as the\n",
      "    input dtype.\n",
      "out : ndarray, optional\n",
      "    Alternate output array in which to place the result.  The default\n",
      "    is ``None``; if provided, it must have the same shape as the\n",
      "    expected output, but the type will be cast if necessary.\n",
      "    See `ufuncs-output-type` for more details.\n",
      "\n",
      "keepdims : bool, optional\n",
      "    If this is set to True, the axes which are reduced are left\n",
      "    in the result as dimensions with size one. With this option,\n",
      "    the result will broadcast correctly against the input array.\n",
      "\n",
      "    If the default value is passed, then `keepdims` will not be\n",
      "    passed through to the `mean` method of sub-classes of\n",
      "    `ndarray`, however any non-default value will be.  If the\n",
      "    sub-class' method does not implement `keepdims` any\n",
      "    exceptions will be raised.\n",
      "\n",
      "Returns\n",
      "-------\n",
      "m : ndarray, see dtype parameter above\n",
      "    If `out=None`, returns a new array containing the mean values,\n",
      "    otherwise a reference to the output array is returned.\n",
      "\n",
      "See Also\n",
      "--------\n",
      "average : Weighted average\n",
      "std, var, nanmean, nanstd, nanvar\n",
      "\n",
      "Notes\n",
      "-----\n",
      "The arithmetic mean is the sum of the elements along the axis divided\n",
      "by the number of elements.\n",
      "\n",
      "Note that for floating-point input, the mean is computed using the\n",
      "same precision the input has.  Depending on the input data, this can\n",
      "cause the results to be inaccurate, especially for `float32` (see\n",
      "example below).  Specifying a higher-precision accumulator using the\n",
      "`dtype` keyword can alleviate this issue.\n",
      "\n",
      "By default, `float16` results are computed using `float32` intermediates\n",
      "for extra precision.\n",
      "\n",
      "Examples\n",
      "--------\n",
      ">>> a = np.array([[1, 2], [3, 4]])\n",
      ">>> np.mean(a)\n",
      "2.5\n",
      ">>> np.mean(a, axis=0)\n",
      "array([2., 3.])\n",
      ">>> np.mean(a, axis=1)\n",
      "array([1.5, 3.5])\n",
      "\n",
      "In single precision, `mean` can be inaccurate:\n",
      "\n",
      ">>> a = np.zeros((2, 512*512), dtype=np.float32)\n",
      ">>> a[0, :] = 1.0\n",
      ">>> a[1, :] = 0.1\n",
      ">>> np.mean(a)\n",
      "0.54999924\n",
      "\n",
      "Computing the mean in float64 is more accurate:\n",
      "\n",
      ">>> np.mean(a, dtype=np.float64)\n",
      "0.55000000074505806 # may vary\n",
      "\u001b[1;31mFile:\u001b[0m      c:\\python36\\lib\\site-packages\\numpy\\core\\fromnumeric.py\n",
      "\u001b[1;31mType:\u001b[0m      function\n"
     ],
     "name": "stdout"
    }
   ],
   "source": [
    "?np.mean"
   ]
  },
  {
   "source": [
    "#What we need is\n",
    "from IPython.display import HTML\n",
    "HTML('<iframe width=\"800\" height=\"450\" src=\"https://swcarpentry.github.io/python-novice-inflammation/fig/python-operations-across-axes.png\" frameborder=\"\" style=\"background:#FFFFFF;\"></iframe>')"
   ],
   "cell_type": "code",
   "metadata": {},
   "execution_count": 53,
   "outputs": [
    {
     "output_type": "execute_result",
     "data": {
      "text/plain": [
       "<IPython.core.display.HTML object>"
      ],
      "text/html": "<iframe width=\"800\" height=\"450\" src=\"https://swcarpentry.github.io/python-novice-inflammation/fig/python-operations-across-axes.png\" frameborder=\"\" style=\"background:#FFFFFF;\"></iframe>"
     },
     "metadata": {},
     "execution_count": 53
    }
   ]
  },
  {
   "cell_type": "code",
   "execution_count": 68,
   "metadata": {},
   "outputs": [
    {
     "output_type": "stream",
     "name": "stdout",
     "text": [
      "The mean inflammations per day over all patients:\n [ 0.          0.45        1.11666667  1.75        2.43333333  3.15\n  3.8         3.88333333  5.23333333  5.51666667  5.95        5.9\n  8.35        7.73333333  8.36666667  9.5         9.58333333 10.63333333\n 11.56666667 12.35       13.25       11.96666667 11.03333333 10.16666667\n 10.          8.66666667  9.15        7.25        7.33333333  6.58333333\n  6.06666667  5.95        5.11666667  3.6         3.3         3.56666667\n  2.48333333  1.5         1.13333333  0.56666667]\nShape of data:  (60, 40)\nShape of resultant means:  (40,)\n"
     ]
    }
   ],
   "source": [
    "#Mean across the 1st axis (across the patients)- This means that the first axis is locked and mean is calculated for values through the all values in second axis\n",
    "print(\"The mean inflammations per day over all patients:\\n\", np.mean(data, axis=0))\n",
    "print(\"Shape of data: \", data.shape)\n",
    "print(\"Shape of resultant means: \", np.mean(data, axis=0).shape)"
   ]
  },
  {
   "cell_type": "code",
   "execution_count": 69,
   "metadata": {},
   "outputs": [
    {
     "output_type": "stream",
     "name": "stdout",
     "text": [
      "The mean inflammations per patient over all days:\n [5.45  5.425 6.1   5.9   5.55  6.225 5.975 6.65  6.625 6.525 6.775 5.8\n 6.225 5.75  5.225 6.3   6.55  5.7   5.85  6.55  5.775 5.825 6.175 6.1\n 5.8   6.425 6.05  6.025 6.175 6.55  6.175 6.35  6.725 6.125 7.075 5.725\n 5.925 6.15  6.075 5.75  5.975 5.725 6.3   5.9   6.75  5.925 7.225 6.15\n 5.95  6.275 5.7   6.1   6.825 5.975 6.725 5.7   6.25  6.4   7.05  5.9  ]\nShape of data:  (60, 40)\nShape of resultant means:  (60,)\n"
     ]
    }
   ],
   "source": [
    "#Similarly\n",
    "print(\"The mean inflammations per patient over all days:\\n\", np.mean(data, axis=1))\n",
    "print(\"Shape of data: \", data.shape)\n",
    "print(\"Shape of resultant means: \", np.mean(data, axis=1).shape)"
   ]
  },
  {
   "source": [
    "#### More on Slicing\n"
   ],
   "cell_type": "markdown",
   "metadata": {}
  },
  {
   "cell_type": "code",
   "execution_count": 91,
   "metadata": {},
   "outputs": [
    {
     "output_type": "stream",
     "name": "stdout",
     "text": [
      "First 3 characters of element are:  oxy\nLast 3 characters are:  gen\nNumber of characters in element name:  6\nLast 3 characters of any element are:  gen\nFirst 4 characters of element are:  oxyg\nall characters after 4th character of element are:  en\nall characters of element:  oxygen\nlast characters of element:  n\nSecond last characters of element:  e\nLast 3 characters of any element are:  gen\nLast, first and second characters of element are:  \n"
     ]
    }
   ],
   "source": [
    "element='oxygen'\n",
    "print(\"First 3 characters of element are: \", element[:3])\n",
    "print(\"Last 3 characters are: \", element[3:6])\n",
    "print(\"Number of characters in element name: \", len(element))\n",
    "print(\"Last 3 characters of any element are: \", element[len(element)-3:len(element)])\n",
    "print(\"First 4 characters of element are: \", element[:4]) #Exclusive of 4th element or 5th character of the string\n",
    "print(\"all characters after 4th character of element are: \", element[4:]) #Inclusive of 4th element or 5th character of the string\n",
    "print(\"all characters of element: \", element[:])\n",
    "print(\"last characters of element: \", element[-1])\n",
    "print(\"Second last characters of element: \", element[-2])\n",
    "print(\"Last 3 characters of any element are: \", element[-3:]) #Alternative\n",
    "print(\"Last, first and second characters of element are: \", element[-1:1]) #Creates a substring from index 1 up to (not including) the final index, effectively removing the first and last letters from ‘oxygen’"
   ]
  },
  {
   "cell_type": "code",
   "execution_count": 100,
   "metadata": {},
   "outputs": [
    {
     "output_type": "stream",
     "name": "stdout",
     "text": [
      "\n(0, 0)\n[]\n(0, 40)\n"
     ]
    }
   ],
   "source": [
    "#The following created empty arrays. This is called thin slice.\n",
    "print(element[3:3]) #Empty string (with no characters) is created\n",
    "print(data[3:3,4:4].shape) #Empty 2D array with no elements\n",
    "print(data[3:3,:]) #Empty 2D array with 40 dimensions with empty characters\n",
    "print(data[3:3,:].shape)"
   ]
  },
  {
   "cell_type": "code",
   "execution_count": 114,
   "metadata": {},
   "outputs": [
    {
     "output_type": "stream",
     "name": "stdout",
     "text": [
      "A:\n [[1 2 3]\n [4 5 6]\n [7 8 9]]\nB:\n [[1 2 3 1 2 3]\n [4 5 6 4 5 6]\n [7 8 9 7 8 9]]\nC:\n [[1 2 3]\n [4 5 6]\n [7 8 9]\n [1 2 3]\n [4 5 6]\n [7 8 9]]\nShapes\n A:  (3, 3) \nB:  (3, 6) \nC:  (6, 3)\nDimension\n A:  2 \nB:  2 \nC:  2\n"
     ]
    }
   ],
   "source": [
    "#Stacking of arrays\n",
    "A = np.array([[1,2,3], [4,5,6], [7, 8, 9]])\n",
    "print(\"A:\\n\", A)\n",
    "#Horizontal stacking of arrays\n",
    "B=np.hstack([A,A])\n",
    "print(\"B:\\n\", B)\n",
    "#Vertical Stacking of arrays\n",
    "C=np.vstack([A,A])\n",
    "print(\"C:\\n\",C)\n",
    "#Shapes\n",
    "print(\"Shapes\\n\", \"A: \", A.shape, \"\\nB: \", B.shape, \"\\nC: \", C.shape)\n",
    "#Dimensions (Still unchanged)\n",
    "print(\"Dimension\\n\",\"A: \", A.ndim, \"\\nB: \", B.ndim, \"\\nC: \", C.ndim)"
   ]
  },
  {
   "cell_type": "code",
   "execution_count": 143,
   "metadata": {},
   "outputs": [
    {
     "output_type": "stream",
     "name": "stdout",
     "text": [
      "[1 4 7] [3 6 9] \nShapes\n (3,) (3,)\n1D sliced and stacked A_s:\n [1 4 7 3 6 9]\nPreserved Singletons\n [[1]\n [4]\n [7]] [[3]\n [6]\n [9]] \nShapes\n (3, 1) (3, 1)\nFinal Sliced and Stacked A with first and last columns:\n [[1 3]\n [4 6]\n [7 9]]\nDeleted Column Array:\n [[1 3]\n [4 6]\n [7 9]]\n"
     ]
    }
   ],
   "source": [
    "print(A[:,0], A[:,-1], \"\\nShapes\\n\", A[:,0].shape, A[:,2].shape)\n",
    "#^Here, singleton dimensions are dropped by default making these two 1-D arrays.\n",
    "A_s=np.hstack((A[:, 0], A[:,-1]))\n",
    "print(\"1D sliced and stacked A_s:\\n\", A_s)\n",
    "\n",
    "#To preserve it as a 2D array (singleton dimensions), we use the following-\n",
    "print(\"Preserved Singletons\\n\", A[:, :1], A[:,-1:], \"\\nShapes\\n\", A[:, :1].shape, A[:,-1:].shape)\n",
    "A_s=np.hstack((A[:, :1], A[:,-1:]))\n",
    "print(\"Final Sliced and Stacked A with first and last columns:\\n\", A_s)\n",
    "\n",
    "##We can also use np.delete function to delete the second column\n",
    "del_A=np.delete(A,1,1) #here, the first 1 is for the column (object to delete), while the second 1 is for the axis to delete along so as to prevent flattening of the resultant array\n",
    "print(\"Deleted Column Array:\\n\", del_A)"
   ]
  },
  {
   "cell_type": "code",
   "execution_count": 165,
   "metadata": {},
   "outputs": [
    {
     "output_type": "stream",
     "name": "stdout",
     "text": [
      "patient3_week1:  [0. 1. 1. 3. 3. 2. 6.] \tshape:  (7,)\npatient3_week1 differences:  [ 1.  0.  2.  0. -1.  4.] \tshape:  (6,)\nData 1st row  [ 0.  1.  2.  1.  2.  1.  3.  2.  2.  6. 10. 11.  5.  9.  4.  4.  7. 16.\n  8.  6. 18.  4. 12.  5. 12.  7. 11.  5. 11.  3.  3.  5.  4.  4.  5.  5.\n  1.  1.  0.  1.]\nDifferences of all patients' week1 data directly through the multidimensional array: \n [[ 0.  1.  2. -2.  1.  2.]\n [ 1.  1. -1.  1. -1.  2.]\n [ 1.  0.  2.  0. -1.  4.]\n [ 0.  2. -2.  4. -2.  0.]\n [ 1.  0.  2.  0. -2.  2.]\n [ 0.  1.  1.  0.  2. -2.]\n [ 0.  2.  0.  2. -2.  0.]\n [ 0.  1.  1.  1. -2.  1.]\n [ 0.  0.  3. -2.  4.  1.]\n [ 1.  0.  1. -1.  2.  2.]\n [ 1. -1.  0.  4. -1.  0.]\n [ 1. -1.  0.  3.  1. -2.]\n [ 0.  2. -1.  3. -1.  3.]\n [ 0.  0.  0.  1.  2. -2.]\n [ 1.  1. -1.  0.  0.  3.]\n [ 1.  0. -1.  1.  1.  2.]\n [ 0.  0.  0.  2.  1.  3.]\n [ 0.  0.  1.  1. -1.  3.]\n [ 0.  2. -1.  1.  3. -1.]\n [ 1.  1. -2.  1.  3. -1.]\n [ 1.  0.  2. -2.  3.  0.]\n [ 0.  2.  1. -1.  1. -1.]\n [ 0.  0.  3.  1.  1. -4.]\n [ 1.  0.  0.  0.  2.  0.]\n [ 1.  0.  0.  1.  1.  2.]\n [ 0.  2. -1.  2.  0. -1.]\n [ 0.  1.  1.  2. -2.  0.]\n [ 0.  1.  0.  0.  4. -4.]\n [ 0.  2.  0.  1.  1.  2.]\n [ 0.  0.  1.  3.  0.  2.]\n [ 1.  0. -1.  3. -1.  2.]\n [ 0.  2.  1.  0.  1.  1.]\n [ 1.  1.  0.  0.  1.  3.]\n [ 0.  2. -1.  2.  2.  1.]\n [ 0.  1.  1.  2. -3.  4.]\n [ 0.  0.  3. -2.  2.  3.]\n [ 1.  1.  0.  0.  3.  0.]\n [ 1.  0.  1.  1. -2.  4.]\n [ 1. -1.  3. -1.  2. -3.]\n [ 1.  0.  2. -2.  0.  4.]\n [ 0.  0.  2.  0. -1.  2.]\n [ 0.  1.  2.  0. -2.  1.]\n [ 1.  0.  2.  1.  1. -3.]\n [ 0.  1.  2. -2.  3. -1.]\n [ 1.  0.  2.  0.  1.  0.]\n [ 1.  1.  0.  2. -1. -2.]\n [ 0.  2.  1.  1.  1. -1.]\n [ 1.  0.  2. -2.  3.  2.]\n [ 0.  1.  2. -1.  3. -4.]\n [ 0.  1.  1.  1.  1.  1.]\n [ 1.  1. -1.  0.  2.  2.]\n [ 1.  1.  0.  1.  2. -3.]\n [ 0.  0.  2.  2.  0.  1.]\n [ 0.  2. -1.  0.  3.  0.]\n [ 1.  1. -1.  0.  3.  1.]\n [ 0.  1.  2. -1.  1.  3.]\n [ 1.  0.  1.  0.  3. -4.]\n [ 1.  0.  0.  3. -3.  5.]\n [ 0.  0.  1.  3.  1.  1.]\n [ 0.  1. -1.  3. -1.  3.]] \tshape:  (60, 6)\n[12. 14. 11. 13. 11. 13. 10. 12. 10. 10. 10. 12. 13. 10. 11. 10. 12. 13.\n  9. 10. 13.  9. 12.  9. 12. 11. 10. 13.  9. 13. 11. 11.  8. 11. 12. 13.\n  9. 10. 13. 11. 11. 13. 11. 13. 13. 10.  9. 10. 10.  9.  9. 13. 10.  9.\n 10. 11. 13. 10. 10. 12.]\n"
     ]
    }
   ],
   "source": [
    "#np.diff() takes an array as an input and returns the differences between 2 successive values. The difference is calculated as data[i+1]-data[i] (next element - current element)\n",
    "patient3_week1 =data[2, :7]\n",
    "print(\"patient3_week1: \", patient3_week1, \"\\tshape: \", patient3_week1.shape)\n",
    "print(\"patient3_week1 differences: \", np.diff(patient3_week1), \"\\tshape: \",np.diff(patient3_week1).shape)\n",
    "\n",
    "#For multidimensional arrays, axis argument can be passed to tell which axis it is supposed to process\n",
    "# print(\"Data 1st row \", data[1])\n",
    "# print(\"Differences of all patients' week1 data directly through the multidimensional array: \\n\", np.diff(data[:,:7], axis=1), \"\\tshape: \", np.diff(data[:,:7], axis=1).shape)\n",
    "\n",
    "#Getting largest differences between all days - Max of differences for all patients is calculated accross all days\n",
    "#Absolute function is used to get the absolute of difference between days as in case the cases are decreasing accorss dats, the difference wi be negative\n",
    "print(np.max(np.absolute(np.diff(data, axis=1)), axis=1)) "
   ]
  }
 ],
 "metadata": {
  "kernelspec": {
   "display_name": "Python 3",
   "language": "python",
   "name": "python3"
  },
  "language_info": {
   "codemirror_mode": {
    "name": "ipython",
    "version": 3
   },
   "file_extension": ".py",
   "mimetype": "text/x-python",
   "name": "python",
   "nbconvert_exporter": "python",
   "pygments_lexer": "ipython3",
   "version": "3.6.8-final"
  }
 },
 "nbformat": 4,
 "nbformat_minor": 4
}