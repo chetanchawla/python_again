{
 "cells": [
  {
   "cell_type": "markdown",
   "metadata": {},
   "source": [
    "## We are doing a data analysis task for patients to study their inglammattion as per a new treatment for Arthiritis"
   ]
  },
  {
   "cell_type": "markdown",
   "metadata": {},
   "source": [
    "Data is in CSV format"
   ]
  },
  {
   "cell_type": "markdown",
   "metadata": {},
   "source": [
    "Data description\n",
    "- Each row has information for a single patient\n",
    "- Each column represents successive days of the clinical study\n",
    "- Each number represents the no. of inflammation bouts that a particular patient experienced on a given day\n",
    "\n",
    "Dummy Data\n",
    "\n",
    "0,0,1,3,1,2,4,7,8,3,3,3,10,5,7,4,7,7,12,18,6,13,11,11,7,7,4,6,8,8,4,4,5,7,3,4,2,3,0,0\n",
    "0,1,2,1,2,1,3,2,2,6,10,11,5,9,4,4,7,16,8,6,18,4,12,5,12,7,11,5,11,3,3,5,4,4,5,5,1,1,0,1\n",
    "0,1,1,3,3,2,6,2,5,9,5,7,4,5,4,15,5,11,9,10,19,14,12,17,7,12,11,7,4,2,10,5,4,2,2,3,2,2,1,1\n",
    "\n",
    "###### Final Task\n",
    "- Calculate average inflammation per day accross all patients\n",
    "- Plot results"
   ]
  },
  {
   "cell_type": "markdown",
   "metadata": {},
   "source": [
    "### Python Fundamentals"
   ]
  },
  {
   "cell_type": "code",
   "execution_count": 35,
   "metadata": {},
   "outputs": [
    {
     "output_type": "execute_result",
     "data": {
      "text/plain": [
       "18"
      ]
     },
     "metadata": {},
     "execution_count": 35
    }
   ],
   "source": [
    "#Arthemetics\n",
    "\n",
    "3+5*3"
   ]
  },
  {
   "cell_type": "code",
   "execution_count": 36,
   "metadata": {},
   "outputs": [],
   "source": [
    "#Assigning the value to a variable. \n",
    "a=60"
   ]
  },
  {
   "cell_type": "markdown",
   "metadata": {},
   "source": [
    "Variable names can have alphanumerics and underscores. They can't start with a number and are case sensitive\n",
    "\n",
    "3 common data types are\n",
    "- integers [a=60]\n",
    "- floating point numbers or decimals [a=60.0]\n",
    "- strings [a='is a variable'] or [a=\"is a variable\"]\n"
   ]
  },
  {
   "cell_type": "code",
   "execution_count": 37,
   "metadata": {},
   "outputs": [
    {
     "output_type": "stream",
     "name": "stdout",
     "text": [
      "60\nmy variable's value is  60\nmy variable's value is  60\n10 added to my variable is  70\n"
     ]
    }
   ],
   "source": [
    "#Printing the value of the variable\n",
    "print(a)\n",
    "\n",
    "#printing multiple variables\n",
    "b=\"my variable's value is \"\n",
    "print (b,a)\n",
    "\n",
    "#printing string and a variable\n",
    "print(\"my variable's value is \",a)\n",
    "\n",
    "#arithmetic in print function\n",
    "print(\"10 added to my variable is \", a+10)"
   ]
  },
  {
   "cell_type": "code",
   "execution_count": 38,
   "metadata": {},
   "outputs": [
    {
     "output_type": "error",
     "ename": "TypeError",
     "evalue": "can't multiply sequence by non-int of type 'float'",
     "traceback": [
      "\u001b[1;31m---------------------------------------------------------------------------\u001b[0m",
      "\u001b[1;31mTypeError\u001b[0m                                 Traceback (most recent call last)",
      "\u001b[1;32m<ipython-input-38-9b9912a5cf16>\u001b[0m in \u001b[0;36m<module>\u001b[1;34m\u001b[0m\n\u001b[0;32m      2\u001b[0m \u001b[1;31m#decared based on the type of value it holds at the ti,e of initialization (as below)\u001b[0m\u001b[1;33m\u001b[0m\u001b[1;33m\u001b[0m\u001b[1;33m\u001b[0m\u001b[0m\n\u001b[0;32m      3\u001b[0m \u001b[0mb\u001b[0m\u001b[1;33m=\u001b[0m\u001b[1;34m\"a\"\u001b[0m\u001b[1;33m\u001b[0m\u001b[1;33m\u001b[0m\u001b[0m\n\u001b[1;32m----> 4\u001b[1;33m \u001b[0mb\u001b[0m\u001b[1;33m=\u001b[0m\u001b[0mb\u001b[0m\u001b[1;33m*\u001b[0m\u001b[1;36m1.5\u001b[0m\u001b[1;33m\u001b[0m\u001b[1;33m\u001b[0m\u001b[0m\n\u001b[0m\u001b[0;32m      5\u001b[0m \u001b[0mprint\u001b[0m\u001b[1;33m(\u001b[0m\u001b[0mb\u001b[0m\u001b[1;33m)\u001b[0m\u001b[1;33m\u001b[0m\u001b[1;33m\u001b[0m\u001b[0m\n",
      "\u001b[1;31mTypeError\u001b[0m: can't multiply sequence by non-int of type 'float'"
     ]
    }
   ],
   "source": [
    "#Python has a self decration, so the variable type gets \n",
    "#decared based on the type of value it holds at the ti,e of initialization (as below)\n",
    "b=\"a\"\n",
    "b=b*1.5\n",
    "print(b)"
   ]
  },
  {
   "cell_type": "code",
   "execution_count": 7,
   "metadata": {},
   "outputs": [
    {
     "output_type": "stream",
     "name": "stdout",
     "text": [
      "12.600000000000001\n"
     ]
    }
   ],
   "source": [
    "#Also, there are some errors in calcuation from FPU\n",
    "a=6\n",
    "a=a*2.1\n",
    "print(a)"
   ]
  },
  {
   "cell_type": "markdown",
   "metadata": {},
   "source": [
    "In actual terms, variable is a place in memory. It has a certain memory address and a name associated with it. The variable a refers to an address in the memory which holds n bytes of information. This number n is defined by the data type it holds and the way data is stored using python."
   ]
  },
  {
   "cell_type": "code",
   "execution_count": 14,
   "metadata": {},
   "outputs": [
    {
     "output_type": "stream",
     "name": "stdout",
     "text": [
      "95.0\n102\n<class 'float'>\n"
     ]
    }
   ],
   "source": [
    "#small question\n",
    "mass=47.5\n",
    "age=122\n",
    "mass=mass*2.0\n",
    "age=age-20\n",
    "\n",
    "#Then the value of mass is updated and is equal to its initial value multiplied by 2\n",
    "#Similarly, the value of age is updated and is equal to its initial value minus 20\n",
    "print(mass)\n",
    "print(age)\n",
    "\n",
    "#We can also print the datatype of the varable by the Python (in-built) function type() {takes the argument variable and returns the data type of the variable}\n",
    "print(type(mass))"
   ]
  },
  {
   "cell_type": "code",
   "execution_count": 16,
   "metadata": {},
   "outputs": [
    {
     "output_type": "stream",
     "name": "stdout",
     "text": [
      "Hopper Grace\n"
     ]
    }
   ],
   "source": [
    "#Assignment of 2 variables in one command\n",
    "first, second= 'Grace', 'Hopper'\n",
    "third, fourth=second, first\n",
    "print(third, fourth)"
   ]
  },
  {
   "cell_type": "markdown",
   "metadata": {},
   "source": [
    "### Analyzing Patients Data"
   ]
  },
  {
   "cell_type": "markdown",
   "metadata": {},
   "source": [
    "We'll be using a library called NumPy (Python library for Numerical Analysis)\n",
    "\n",
    "Libraries are collections of functions and constructs that can be used in Python to carry out the required tasks. These add modularity to Python. Numpy library has functions and data types for making numerical analysis easier. For example, Numpy arrays are a data-type which stores data as matrices which makes matrix calculations easy and faster (by optimizing it)."
   ]
  },
  {
   "cell_type": "code",
   "execution_count": 17,
   "metadata": {},
   "outputs": [],
   "source": [
    "#To install numpy, use-\n",
    "#!pip install numpy\n",
    "#Here, ! is used to specify that the command is supposed to be run in \n",
    "#the terminal directly."
   ]
  },
  {
   "cell_type": "code",
   "execution_count": 18,
   "metadata": {},
   "outputs": [],
   "source": [
    "#Once installed (or if already installed), import the library in the current workspace\n",
    "import numpy as np\n",
    "#np is an alias for numpy (can be anything with naming convention similar to variables)"
   ]
  },
  {
   "cell_type": "code",
   "execution_count": 19,
   "metadata": {},
   "outputs": [
    {
     "output_type": "execute_result",
     "data": {
      "text/plain": [
       "array([[0., 0., 1., ..., 3., 0., 0.],\n",
       "       [0., 1., 2., ..., 1., 0., 1.],\n",
       "       [0., 1., 1., ..., 2., 1., 1.],\n",
       "       ...,\n",
       "       [0., 1., 1., ..., 1., 1., 1.],\n",
       "       [0., 0., 0., ..., 0., 2., 0.],\n",
       "       [0., 0., 1., ..., 1., 1., 0.]])"
      ]
     },
     "metadata": {},
     "execution_count": 19
    }
   ],
   "source": [
    "#Load a csv data (inflammation-01.csv). We can also use fname='data/...' \n",
    "#in the function loadtxt, however, the function by default takes the first argument as the\n",
    "#file location\n",
    "np.loadtxt('data/inflammation-01.csv', delimiter=',')"
   ]
  },
  {
   "cell_type": "markdown",
   "metadata": {},
   "source": [
    "A function is a block of code that takes the arguments/parameters specified in the brackets () as inputs to the function, executes the code written in the function and typically returns an output.\n",
    "\n",
    "np.loadtxt() calls the function from the library numpy. It has 2 parameters\n",
    "- The name of the file (fname) - String input\n",
    "- The delimiter that separates different values on one line - String input"
   ]
  },
  {
   "cell_type": "code",
   "execution_count": 20,
   "metadata": {},
   "outputs": [
    {
     "output_type": "stream",
     "text": [
      "\u001b[1;31mSignature:\u001b[0m\n",
      "\u001b[0mnp\u001b[0m\u001b[1;33m.\u001b[0m\u001b[0mloadtxt\u001b[0m\u001b[1;33m(\u001b[0m\u001b[1;33m\n",
      "\u001b[0m    \u001b[0mfname\u001b[0m\u001b[1;33m,\u001b[0m\u001b[1;33m\n",
      "\u001b[0m    \u001b[0mdtype\u001b[0m\u001b[1;33m=\u001b[0m\u001b[1;33m<\u001b[0m\u001b[1;32mclass\u001b[0m \u001b[1;34m'float'\u001b[0m\u001b[1;33m>\u001b[0m\u001b[1;33m,\u001b[0m\u001b[1;33m\n",
      "\u001b[0m    \u001b[0mcomments\u001b[0m\u001b[1;33m=\u001b[0m\u001b[1;34m'#'\u001b[0m\u001b[1;33m,\u001b[0m\u001b[1;33m\n",
      "\u001b[0m    \u001b[0mdelimiter\u001b[0m\u001b[1;33m=\u001b[0m\u001b[1;32mNone\u001b[0m\u001b[1;33m,\u001b[0m\u001b[1;33m\n",
      "\u001b[0m    \u001b[0mconverters\u001b[0m\u001b[1;33m=\u001b[0m\u001b[1;32mNone\u001b[0m\u001b[1;33m,\u001b[0m\u001b[1;33m\n",
      "\u001b[0m    \u001b[0mskiprows\u001b[0m\u001b[1;33m=\u001b[0m\u001b[1;36m0\u001b[0m\u001b[1;33m,\u001b[0m\u001b[1;33m\n",
      "\u001b[0m    \u001b[0musecols\u001b[0m\u001b[1;33m=\u001b[0m\u001b[1;32mNone\u001b[0m\u001b[1;33m,\u001b[0m\u001b[1;33m\n",
      "\u001b[0m    \u001b[0munpack\u001b[0m\u001b[1;33m=\u001b[0m\u001b[1;32mFalse\u001b[0m\u001b[1;33m,\u001b[0m\u001b[1;33m\n",
      "\u001b[0m    \u001b[0mndmin\u001b[0m\u001b[1;33m=\u001b[0m\u001b[1;36m0\u001b[0m\u001b[1;33m,\u001b[0m\u001b[1;33m\n",
      "\u001b[0m    \u001b[0mencoding\u001b[0m\u001b[1;33m=\u001b[0m\u001b[1;34m'bytes'\u001b[0m\u001b[1;33m,\u001b[0m\u001b[1;33m\n",
      "\u001b[0m    \u001b[0mmax_rows\u001b[0m\u001b[1;33m=\u001b[0m\u001b[1;32mNone\u001b[0m\u001b[1;33m,\u001b[0m\u001b[1;33m\n",
      "\u001b[0m\u001b[1;33m)\u001b[0m\u001b[1;33m\u001b[0m\u001b[1;33m\u001b[0m\u001b[0m\n",
      "\u001b[1;31mDocstring:\u001b[0m\n",
      "Load data from a text file.\n",
      "\n",
      "Each row in the text file must have the same number of values.\n",
      "\n",
      "Parameters\n",
      "----------\n",
      "fname : file, str, or pathlib.Path\n",
      "    File, filename, or generator to read.  If the filename extension is\n",
      "    ``.gz`` or ``.bz2``, the file is first decompressed. Note that\n",
      "    generators should return byte strings.\n",
      "dtype : data-type, optional\n",
      "    Data-type of the resulting array; default: float.  If this is a\n",
      "    structured data-type, the resulting array will be 1-dimensional, and\n",
      "    each row will be interpreted as an element of the array.  In this\n",
      "    case, the number of columns used must match the number of fields in\n",
      "    the data-type.\n",
      "comments : str or sequence of str, optional\n",
      "    The characters or list of characters used to indicate the start of a\n",
      "    comment. None implies no comments. For backwards compatibility, byte\n",
      "    strings will be decoded as 'latin1'. The default is '#'.\n",
      "delimiter : str, optional\n",
      "    The string used to separate values. For backwards compatibility, byte\n",
      "    strings will be decoded as 'latin1'. The default is whitespace.\n",
      "converters : dict, optional\n",
      "    A dictionary mapping column number to a function that will parse the\n",
      "    column string into the desired value.  E.g., if column 0 is a date\n",
      "    string: ``converters = {0: datestr2num}``.  Converters can also be\n",
      "    used to provide a default value for missing data (but see also\n",
      "    `genfromtxt`): ``converters = {3: lambda s: float(s.strip() or 0)}``.\n",
      "    Default: None.\n",
      "skiprows : int, optional\n",
      "    Skip the first `skiprows` lines, including comments; default: 0.\n",
      "usecols : int or sequence, optional\n",
      "    Which columns to read, with 0 being the first. For example,\n",
      "    ``usecols = (1,4,5)`` will extract the 2nd, 5th and 6th columns.\n",
      "    The default, None, results in all columns being read.\n",
      "\n",
      "    .. versionchanged:: 1.11.0\n",
      "        When a single column has to be read it is possible to use\n",
      "        an integer instead of a tuple. E.g ``usecols = 3`` reads the\n",
      "        fourth column the same way as ``usecols = (3,)`` would.\n",
      "unpack : bool, optional\n",
      "    If True, the returned array is transposed, so that arguments may be\n",
      "    unpacked using ``x, y, z = loadtxt(...)``.  When used with a structured\n",
      "    data-type, arrays are returned for each field.  Default is False.\n",
      "ndmin : int, optional\n",
      "    The returned array will have at least `ndmin` dimensions.\n",
      "    Otherwise mono-dimensional axes will be squeezed.\n",
      "    Legal values: 0 (default), 1 or 2.\n",
      "\n",
      "    .. versionadded:: 1.6.0\n",
      "encoding : str, optional\n",
      "    Encoding used to decode the inputfile. Does not apply to input streams.\n",
      "    The special value 'bytes' enables backward compatibility workarounds\n",
      "    that ensures you receive byte arrays as results if possible and passes\n",
      "    'latin1' encoded strings to converters. Override this value to receive\n",
      "    unicode arrays and pass strings as input to converters.  If set to None\n",
      "    the system default is used. The default value is 'bytes'.\n",
      "\n",
      "    .. versionadded:: 1.14.0\n",
      "max_rows : int, optional\n",
      "    Read `max_rows` lines of content after `skiprows` lines. The default\n",
      "    is to read all the lines.\n",
      "\n",
      "    .. versionadded:: 1.16.0\n",
      "\n",
      "Returns\n",
      "-------\n",
      "out : ndarray\n",
      "    Data read from the text file.\n",
      "\n",
      "See Also\n",
      "--------\n",
      "load, fromstring, fromregex\n",
      "genfromtxt : Load data with missing values handled as specified.\n",
      "scipy.io.loadmat : reads MATLAB data files\n",
      "\n",
      "Notes\n",
      "-----\n",
      "This function aims to be a fast reader for simply formatted files.  The\n",
      "`genfromtxt` function provides more sophisticated handling of, e.g.,\n",
      "lines with missing values.\n",
      "\n",
      ".. versionadded:: 1.10.0\n",
      "\n",
      "The strings produced by the Python float.hex method can be used as\n",
      "input for floats.\n",
      "\n",
      "Examples\n",
      "--------\n",
      ">>> from io import StringIO   # StringIO behaves like a file object\n",
      ">>> c = StringIO(\"0 1\\n2 3\")\n",
      ">>> np.loadtxt(c)\n",
      "array([[0., 1.],\n",
      "       [2., 3.]])\n",
      "\n",
      ">>> d = StringIO(\"M 21 72\\nF 35 58\")\n",
      ">>> np.loadtxt(d, dtype={'names': ('gender', 'age', 'weight'),\n",
      "...                      'formats': ('S1', 'i4', 'f4')})\n",
      "array([(b'M', 21, 72.), (b'F', 35, 58.)],\n",
      "      dtype=[('gender', 'S1'), ('age', '<i4'), ('weight', '<f4')])\n",
      "\n",
      ">>> c = StringIO(\"1,0,2\\n3,0,4\")\n",
      ">>> x, y = np.loadtxt(c, delimiter=',', usecols=(0, 2), unpack=True)\n",
      ">>> x\n",
      "array([1., 3.])\n",
      ">>> y\n",
      "array([2., 4.])\n",
      "\n",
      "This example shows how `converters` can be used to convert a field\n",
      "with a trailing minus sign into a negative number.\n",
      "\n",
      ">>> s = StringIO('10.01 31.25-\\n19.22 64.31\\n17.57- 63.94')\n",
      ">>> def conv(fld):\n",
      "...     return -float(fld[:-1]) if fld.endswith(b'-') else float(fld)\n",
      "...\n",
      ">>> np.loadtxt(s, converters={0: conv, 1: conv})\n",
      "array([[ 10.01, -31.25],\n",
      "       [ 19.22,  64.31],\n",
      "       [-17.57,  63.94]])\n",
      "\u001b[1;31mFile:\u001b[0m      c:\\python36\\lib\\site-packages\\numpy\\lib\\npyio.py\n",
      "\u001b[1;31mType:\u001b[0m      function\n"
     ],
     "name": "stdout"
    }
   ],
   "source": [
    "#We can use ? (in beginning or the end) or help() function in order to get an explanation of any function from the documentation\n",
    "?np.loadtxt"
   ]
  },
  {
   "cell_type": "code",
   "execution_count": null,
   "metadata": {},
   "outputs": [],
   "source": []
  },
  {
   "cell_type": "code",
   "execution_count": 21,
   "metadata": {},
   "outputs": [
    {
     "output_type": "stream",
     "name": "stdout",
     "text": [
      "Values present in data variable:  [[0. 0. 1. ... 3. 0. 0.]\n [0. 1. 2. ... 1. 0. 1.]\n [0. 1. 1. ... 2. 1. 1.]\n ...\n [0. 1. 1. ... 1. 1. 1.]\n [0. 0. 0. ... 0. 2. 0.]\n [0. 0. 1. ... 1. 1. 0.]]\nData Type of the variable:  <class 'numpy.ndarray'>\nElements' data type:  float64\nArray shape:  (60, 40)\n"
     ]
    }
   ],
   "source": [
    "#Assign the loaded data into a variable\n",
    "data=np.loadtxt('data/inflammation-01.csv', delimiter=',')\n",
    "print(\"Values present in data variable: \", data)\n",
    "#type(variable_name) function takes a variable as the parameter and returns its datatype\n",
    "#Here, our variable is of the data type N-dimensional NumPy array\n",
    "print(\"Data Type of the variable: \", type(data))\n",
    "#The attribute .dtype for a variable tells the data-type of elements of the array\n",
    "print(\"Elements' data type: \", data.dtype)\n",
    "#The attribute .shape tells the dimensional lengths of the numpy array, thereby, it's shape\n",
    "print(\"Array shape: \", data.shape)"
   ]
  },
  {
   "cell_type": "markdown",
   "metadata": {},
   "source": [
    "The attributes or members are the metadata about the array"
   ]
  },
  {
   "cell_type": "code",
   "execution_count": 22,
   "metadata": {},
   "outputs": [
    {
     "output_type": "stream",
     "name": "stdout",
     "text": [
      "First Element of first row is:  0.0\nFirst Element of fifth row is:  1.0\nFifth Element of first row is:  0.0\nMiddle value in data is:  13.0\n"
     ]
    }
   ],
   "source": [
    "#Getting a single element from the array, we can use [] to specify exact variable indexes\n",
    "#for the array elements we need\n",
    "#Since we have a 2D array, we will need 2 numbers to specify an element\n",
    "#In Python, array indexing starts with 0 - as this notation represnts an offset from the first value of the array\n",
    "#So, the first element is indexed at [0][0]\n",
    "#The rows move down from the first number while the columns move with the second number\n",
    "print(\"First Element of first row is: \", data[0][0])\n",
    "print(\"First Element of fifth row is: \", data[0][4])\n",
    "print(\"Fifth Element of first row is: \", data[4][0])\n",
    "print(\"Middle value in data is: \", data[30][20])"
   ]
  },
  {
   "cell_type": "code",
   "execution_count": 29,
   "metadata": {},
   "outputs": [
    {
     "output_type": "stream",
     "name": "stdout",
     "text": [
      "First five full rows of the data:\n [[ 0.  0.  1.  3.  1.  2.  4.  7.  8.  3.  3.  3. 10.  5.  7.  4.  7.  7.\n  12. 18.  6. 13. 11. 11.  7.  7.  4.  6.  8.  8.  4.  4.  5.  7.  3.  4.\n   2.  3.  0.  0.]\n [ 0.  1.  2.  1.  2.  1.  3.  2.  2.  6. 10. 11.  5.  9.  4.  4.  7. 16.\n   8.  6. 18.  4. 12.  5. 12.  7. 11.  5. 11.  3.  3.  5.  4.  4.  5.  5.\n   1.  1.  0.  1.]\n [ 0.  1.  1.  3.  3.  2.  6.  2.  5.  9.  5.  7.  4.  5.  4. 15.  5. 11.\n   9. 10. 19. 14. 12. 17.  7. 12. 11.  7.  4.  2. 10.  5.  4.  2.  2.  3.\n   2.  2.  1.  1.]\n [ 0.  0.  2.  0.  4.  2.  2.  1.  6.  7. 10.  7.  9. 13.  8.  8. 15. 10.\n  10.  7. 17.  4.  4.  7.  6. 15.  6.  4.  9. 11.  3.  5.  6.  3.  3.  4.\n   2.  3.  2.  1.]]\n10 elements each from rows 5 to 10:\n [[0. 1. 1. 3. 3. 1. 3. 5. 2. 4.]\n [0. 0. 1. 2. 2. 4. 2. 1. 6. 4.]\n [0. 0. 2. 2. 4. 2. 2. 5. 5. 8.]\n [0. 0. 1. 2. 3. 1. 2. 3. 5. 3.]\n [0. 0. 0. 3. 1. 5. 6. 5. 5. 8.]]\nall rows after 50th row and all columns till 7th coloumn for these rows:\n [[0. 0. 1. 2. 3. 4.]\n [0. 1. 2. 1. 1. 3.]\n [0. 1. 2. 2. 3. 5.]\n [0. 0. 0. 2. 4. 4.]\n [0. 0. 2. 1. 1. 4.]\n [0. 1. 2. 1. 1. 4.]\n [0. 0. 1. 3. 2. 3.]\n [0. 1. 1. 2. 2. 5.]\n [0. 1. 1. 1. 4. 1.]\n [0. 0. 0. 1. 4. 5.]\n [0. 0. 1. 0. 3. 2.]]\n"
     ]
    }
   ],
   "source": [
    "#We can slice data (take a portion of the data)\n",
    "print(\"First five full rows of the data:\\n\", data[0:4])\n",
    "print(\"10 elements each from rows 5 to 10:\\n\", data[4:9, 0:10])\n",
    "#Open cloumns mean from start :n (by default 0 to the nth element) or from n to the end n: (till the last element of that particular dimension) \n",
    "print(\"all rows after 50th row and all columns till 7th coloumn for these rows:\\n\", data[49:,:6])"
   ]
  },
  {
   "cell_type": "code",
   "execution_count": 40,
   "metadata": {},
   "outputs": [
    {
     "output_type": "stream",
     "name": "stdout",
     "text": [
      "Current Date and Time:  Tue Feb  2 16:12:41 2021\n"
     ]
    }
   ],
   "source": [
    "#Side note\n",
    "#Not all functions require an input argument. Parantheses are written to tell Python that we are calling a function with no inputs\n",
    "#For example, the ctime() function of the package time tells the current time\n",
    "import time\n",
    "print(\"Current Date and Time: \", time.ctime())"
   ]
  },
  {
   "cell_type": "code",
   "execution_count": 42,
   "metadata": {},
   "outputs": [
    {
     "output_type": "stream",
     "name": "stdout",
     "text": [
      "Mean or average of all elements of the data array, or the average inflammation counts for all patients over all days:  6.14875\nMax value (Max number of infammations of any patient over all days):  20.0\nMin value (Min number of infammations of any patient over all days):  0.0\nStandard deviation of number of infammations of all patient over all days):  4.613833197118566\n"
     ]
    }
   ],
   "source": [
    "#NumPy analyzing functions\n",
    "print(\"Mean or average of all elements of the data array, or the average inflammation counts for all patients over all days: \",np.mean(data))\n",
    "print(\"Max value (Max number of infammations of any patient over all days): \", np.max(data))\n",
    "print(\"Min value (Min number of infammations of any patient over all days): \", np.min(data))\n",
    "print(\"Standard deviation of number of infammations of all patient over all days): \", np.std(data))"
   ]
  },
  {
   "cell_type": "code",
   "execution_count": 83,
   "metadata": {},
   "outputs": [
    {
     "output_type": "stream",
     "name": "stdout",
     "text": [
      "Maximum inflammation of  1 st  patient is:  18.0\nMinimum inflammation of  1st patient is:  0.0\n"
     ]
    }
   ],
   "source": [
    "#Getting the maximum inflammations of a given patient\n",
    "n=0\n",
    "patient_n = data[n] #Can also be used as data[0,:] which indicates to pick the 0th row and every column\n",
    "#print(patient_0)\n",
    "if((n+1)>10 and (n+1)<20):\n",
    "    th=\"th\"\n",
    "elif((n+1)%10==1):\n",
    "    th=\"st\" \n",
    "elif((n+1)%10==2):\n",
    "    th=\"nd\" \n",
    "elif((n+1)%10==3):\n",
    "    th=\"rd\" \n",
    "else:\n",
    "    th=\"th\"\n",
    "print(\"Maximum inflammation of \",n+1, th,\" patient is: \",np.max(patient_n))\n",
    "#Or\n",
    "print(\"Minimum inflammation of \",n+1,\"\\bst patient is: \",np.min(data[n]))\n",
    "#Here \\b is the regular expression telling the print pointer to go Back by one character"
   ]
  },
  {
   "source": [
    "#What we need is\n",
    "from IPython.display import HTML\n",
    "HTML('<iframe width=\"800\" height=\"400\" src=\"https://swcarpentry.github.io/python-novice-inflammation/fig/python-operations-across-axes.png\" frameborder=\"0\" style=\"background:#FFFFFF;\" allowfullscreen></iframe>')"
   ],
   "cell_type": "code",
   "metadata": {},
   "execution_count": 115,
   "outputs": [
    {
     "output_type": "execute_result",
     "data": {
      "text/plain": [
       "<IPython.core.display.HTML object>"
      ],
      "text/html": "<iframe width=\"800\" height=\"400\" src=\"https://swcarpentry.github.io/python-novice-inflammation/fig/python-operations-across-axes.png\" frameborder=\"0\" style=\"background:#FFFFFF;\" allowfullscreen></iframe>"
     },
     "metadata": {},
     "execution_count": 115
    }
   ]
  }
 ],
 "metadata": {
  "kernelspec": {
   "display_name": "Python 3",
   "language": "python",
   "name": "python3"
  },
  "language_info": {
   "codemirror_mode": {
    "name": "ipython",
    "version": 3
   },
   "file_extension": ".py",
   "mimetype": "text/x-python",
   "name": "python",
   "nbconvert_exporter": "python",
   "pygments_lexer": "ipython3",
   "version": "3.6.8-final"
  }
 },
 "nbformat": 4,
 "nbformat_minor": 4
}