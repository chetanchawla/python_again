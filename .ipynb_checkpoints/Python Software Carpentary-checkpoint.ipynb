{
 "cells": [
  {
   "cell_type": "markdown",
   "metadata": {},
   "source": [
    "## We are doing a data analysis task for patients to study their inglammattion as per a new treatment for Arthiritis"
   ]
  },
  {
   "cell_type": "markdown",
   "metadata": {},
   "source": [
    "Data is in CSV format"
   ]
  },
  {
   "cell_type": "markdown",
   "metadata": {},
   "source": [
    "Data description\n",
    "- Each row has information for a single patient\n",
    "- Each column represents successive days of the clinical study\n",
    "- Each number represents the no. of inflammation bouts that a particular patient experienced on a given data\n",
    "\n",
    "Dummy Data\n",
    "\n",
    "0,0,1,3,1,2,4,7,8,3,3,3,10,5,7,4,7,7,12,18,6,13,11,11,7,7,4,6,8,8,4,4,5,7,3,4,2,3,0,0\n",
    "0,1,2,1,2,1,3,2,2,6,10,11,5,9,4,4,7,16,8,6,18,4,12,5,12,7,11,5,11,3,3,5,4,4,5,5,1,1,0,1\n",
    "0,1,1,3,3,2,6,2,5,9,5,7,4,5,4,15,5,11,9,10,19,14,12,17,7,12,11,7,4,2,10,5,4,2,2,3,2,2,1,1\n",
    "\n",
    "###### Final Task\n",
    "- Calculate average inflammation per day accross all patients\n",
    "- Plot results"
   ]
  },
  {
   "cell_type": "markdown",
   "metadata": {},
   "source": [
    "### Python Fundamentals"
   ]
  },
  {
   "cell_type": "code",
   "execution_count": 2,
   "metadata": {},
   "outputs": [
    {
     "data": {
      "text/plain": [
       "18"
      ]
     },
     "execution_count": 2,
     "metadata": {},
     "output_type": "execute_result"
    }
   ],
   "source": [
    "#Arthemetics\n",
    "\n",
    "3+5*3"
   ]
  },
  {
   "cell_type": "code",
   "execution_count": 4,
   "metadata": {},
   "outputs": [],
   "source": [
    "#Assigning the value to a variable. \n",
    "a=60"
   ]
  },
  {
   "cell_type": "markdown",
   "metadata": {},
   "source": [
    "Variable names can have alphanumerics and underscores. They can't start with a number and are case sensitive\n",
    "\n",
    "3 common data types are\n",
    "- integers [a=60]\n",
    "- floating point numbers or decimals [a=60.0]\n",
    "- strings [a='is a variable'] or [a=\"is a variable\"]\n"
   ]
  },
  {
   "cell_type": "code",
   "execution_count": 9,
   "metadata": {},
   "outputs": [
    {
     "name": "stdout",
     "output_type": "stream",
     "text": [
      "60\n",
      "my variable's value is  60\n",
      "my variable's value is  60\n",
      "10 added to my variable is  70\n"
     ]
    }
   ],
   "source": [
    "#Printing the value of the variable\n",
    "print(a)\n",
    "\n",
    "#printing multiple variables\n",
    "b=\"my variable's value is \"\n",
    "print (b,a)\n",
    "\n",
    "#printing string and a variable\n",
    "print(\"my variable's value is \",a)\n",
    "\n",
    "#arithmetic in print function\n",
    "print(\"10 added to my variable is \", a+10)"
   ]
  },
  {
   "cell_type": "code",
   "execution_count": 34,
   "metadata": {},
   "outputs": [
    {
     "ename": "TypeError",
     "evalue": "can't multiply sequence by non-int of type 'float'",
     "output_type": "error",
     "traceback": [
      "\u001b[1;31m---------------------------------------------------------------------------\u001b[0m",
      "\u001b[1;31mTypeError\u001b[0m                                 Traceback (most recent call last)",
      "\u001b[1;32m<ipython-input-34-9b9912a5cf16>\u001b[0m in \u001b[0;36m<module>\u001b[1;34m\u001b[0m\n\u001b[0;32m      2\u001b[0m \u001b[1;31m#decared based on the type of value it holds at the ti,e of initialization (as below)\u001b[0m\u001b[1;33m\u001b[0m\u001b[1;33m\u001b[0m\u001b[1;33m\u001b[0m\u001b[0m\n\u001b[0;32m      3\u001b[0m \u001b[0mb\u001b[0m\u001b[1;33m=\u001b[0m\u001b[1;34m\"a\"\u001b[0m\u001b[1;33m\u001b[0m\u001b[1;33m\u001b[0m\u001b[0m\n\u001b[1;32m----> 4\u001b[1;33m \u001b[0mb\u001b[0m\u001b[1;33m=\u001b[0m\u001b[0mb\u001b[0m\u001b[1;33m*\u001b[0m\u001b[1;36m1.5\u001b[0m\u001b[1;33m\u001b[0m\u001b[1;33m\u001b[0m\u001b[0m\n\u001b[0m\u001b[0;32m      5\u001b[0m \u001b[0mprint\u001b[0m\u001b[1;33m(\u001b[0m\u001b[0mb\u001b[0m\u001b[1;33m)\u001b[0m\u001b[1;33m\u001b[0m\u001b[1;33m\u001b[0m\u001b[0m\n",
      "\u001b[1;31mTypeError\u001b[0m: can't multiply sequence by non-int of type 'float'"
     ]
    }
   ],
   "source": [
    "#Python has a self decration, so the variable type gets \n",
    "#decared based on the type of value it holds at the ti,e of initialization (as below)\n",
    "b=\"a\"\n",
    "b=b*1.5\n",
    "print(b)"
   ]
  },
  {
   "cell_type": "code",
   "execution_count": 37,
   "metadata": {},
   "outputs": [
    {
     "name": "stdout",
     "output_type": "stream",
     "text": [
      "12.600000000000001\n"
     ]
    }
   ],
   "source": [
    "#Also, there are some errors in calcuation from FPU\n",
    "a=6\n",
    "a=a*2.1\n",
    "print(a)"
   ]
  },
  {
   "cell_type": "markdown",
   "metadata": {},
   "source": [
    "In actual terms, variable is a place in memory. It has a certain memory address and a name associated with it. The variable a refers to an address in the memory which holds n bytes of information. This number n is defined by the data type it holds and the way data is stored using python."
   ]
  },
  {
   "cell_type": "code",
   "execution_count": 39,
   "metadata": {},
   "outputs": [
    {
     "name": "stdout",
     "output_type": "stream",
     "text": [
      "95.0\n",
      "102\n"
     ]
    }
   ],
   "source": [
    "#small question\n",
    "mass=47.5\n",
    "age=122\n",
    "mass=mass*2.0\n",
    "age=age-20\n",
    "\n",
    "#Then the value of mass is updated and is equal to its initial value multiplied by 2\n",
    "#Similarly, the value of age is updated and is equal to its initial value minus 20\n",
    "print(mass)\n",
    "print(age)"
   ]
  },
  {
   "cell_type": "code",
   "execution_count": 41,
   "metadata": {},
   "outputs": [
    {
     "name": "stdout",
     "output_type": "stream",
     "text": [
      "Hopper Grace\n"
     ]
    }
   ],
   "source": [
    "#Assignment of 2 variables in one command\n",
    "first, second= 'Grace', 'Hopper'\n",
    "third, fourth=second, first\n",
    "print(third, fourth)"
   ]
  },
  {
   "cell_type": "markdown",
   "metadata": {},
   "source": [
    "### Analyzing Patients Data"
   ]
  },
  {
   "cell_type": "markdown",
   "metadata": {},
   "source": [
    "We'll be using a library called NumPy (Python library for Numerical Analysis)\n",
    "\n",
    "Libraries are collections of functions and constructs that can be used in Python to carry out the required tasks. These add modularity to Python. Numpy library has functions and data types for making numerical analysis easier. For example, Numpy arrays are a data-type which stores data as matrices which makes matrix calculations easy and faster (by optimizing it)."
   ]
  },
  {
   "cell_type": "code",
   "execution_count": 42,
   "metadata": {},
   "outputs": [
    {
     "name": "stdout",
     "output_type": "stream",
     "text": [
      "Requirement already satisfied: numpy in c:\\python36\\lib\\site-packages (1.19.4)\n"
     ]
    }
   ],
   "source": [
    "#To install numpy, use-\n",
    "#!pip install numpy\n",
    "#Here, ! is used to specify that the command is supposed to be run in \n",
    "#the terminal directly."
   ]
  },
  {
   "cell_type": "code",
   "execution_count": 44,
   "metadata": {},
   "outputs": [],
   "source": [
    "#Once installed (or if already installed), import the library in the current workspace\n",
    "import numpy as np\n",
    "#np is an alias for numpy (can be anything with naming convention similar to variables)"
   ]
  },
  {
   "cell_type": "code",
   "execution_count": 47,
   "metadata": {},
   "outputs": [
    {
     "data": {
      "text/plain": [
       "array([[0., 0., 1., ..., 3., 0., 0.],\n",
       "       [0., 1., 2., ..., 1., 0., 1.],\n",
       "       [0., 1., 1., ..., 2., 1., 1.],\n",
       "       ...,\n",
       "       [0., 1., 1., ..., 1., 1., 1.],\n",
       "       [0., 0., 0., ..., 0., 2., 0.],\n",
       "       [0., 0., 1., ..., 1., 1., 0.]])"
      ]
     },
     "execution_count": 47,
     "metadata": {},
     "output_type": "execute_result"
    }
   ],
   "source": [
    "#Load a csv data (inflammation-01.csv). We can also use fname='data/...' \n",
    "#in the function loadtxt, however, the function by default takes the first argument as the\n",
    "#file location\n",
    "np.loadtxt('data/inflammation-01.csv', delimiter=',')"
   ]
  },
  {
   "cell_type": "markdown",
   "metadata": {},
   "source": [
    "A function is a block of code that takes the arguments/parameters specified in the brackets () as inputs to the function, executes the code written in the function and typically returns an output.\n",
    "\n",
    "np.loadtxt() calls the function from the library numpy. It has 2 parameters\n",
    "- The name of the file (fname) - String input\n",
    "- The delimiter that separates different values on one line - String input"
   ]
  },
  {
   "cell_type": "code",
   "execution_count": 57,
   "metadata": {},
   "outputs": [
    {
     "name": "stdout",
     "output_type": "stream",
     "text": [
      "Values present in data variable:  [[0. 0. 1. ... 3. 0. 0.]\n",
      " [0. 1. 2. ... 1. 0. 1.]\n",
      " [0. 1. 1. ... 2. 1. 1.]\n",
      " ...\n",
      " [0. 1. 1. ... 1. 1. 1.]\n",
      " [0. 0. 0. ... 0. 2. 0.]\n",
      " [0. 0. 1. ... 1. 1. 0.]]\n",
      "Data Type of the variable:  <class 'numpy.ndarray'>\n",
      "Elements' data type:  float64\n",
      "Array shape:  (60, 40)\n"
     ]
    }
   ],
   "source": [
    "#Assign the loaded data into a variable\n",
    "data=np.loadtxt('data/inflammation-01.csv', delimiter=',')\n",
    "print(\"Values present in data variable: \", data)\n",
    "#type(variable_name) function takes a variable as the parameter and returns its datatype\n",
    "#Here, our variable is of the data type N-dimensional NumPy array\n",
    "print(\"Data Type of the variable: \", type(data))\n",
    "#The attribute .dtype for a variable tells the data-type of elements of the array\n",
    "print(\"Elements' data type: \", data.dtype)\n",
    "#The attribute .shape tells the dimensional lengths of the numpy array, thereby, it's shape\n",
    "print(\"Array shape: \", data.shape)"
   ]
  },
  {
   "cell_type": "markdown",
   "metadata": {},
   "source": [
    "The attributes or members are the metadata about the array"
   ]
  },
  {
   "cell_type": "code",
   "execution_count": 60,
   "metadata": {},
   "outputs": [
    {
     "name": "stdout",
     "output_type": "stream",
     "text": [
      "First Element of first row is:  0.0\n",
      "First Element of fifth row is:  1.0\n",
      "Fifth Element of first row is:  0.0\n",
      "Middle value in data is:  13.0\n"
     ]
    }
   ],
   "source": [
    "#Getting a single element from the array, we can use [] to specify exact variable indexes\n",
    "#for the array elements we need\n",
    "#Since we have a 2D array, we will need 2 numbers to specify an element\n",
    "#In Python, array indexing starts with 0 - as this notation represnts an offset from the first value of the array\n",
    "#So, the first element is indexed at [0][0]\n",
    "#The rows move down from the first number while the columns move with the second number\n",
    "print(\"First Element of first row is: \", data[0][0])\n",
    "print(\"First Element of fifth row is: \", data[0][4])\n",
    "print(\"Fifth Element of first row is: \", data[4][0])\n",
    "print(\"Middle value in data is: \", data[30][20])"
   ]
  },
  {
   "cell_type": "code",
   "execution_count": null,
   "metadata": {},
   "outputs": [],
   "source": []
  }
 ],
 "metadata": {
  "kernelspec": {
   "display_name": "Python 3",
   "language": "python",
   "name": "python3"
  },
  "language_info": {
   "codemirror_mode": {
    "name": "ipython",
    "version": 3
   },
   "file_extension": ".py",
   "mimetype": "text/x-python",
   "name": "python",
   "nbconvert_exporter": "python",
   "pygments_lexer": "ipython3",
   "version": "3.6.8"
  }
 },
 "nbformat": 4,
 "nbformat_minor": 4
}
