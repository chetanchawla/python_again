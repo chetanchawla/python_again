{
 "cells": [
  {
   "cell_type": "markdown",
   "metadata": {},
   "source": [
    "## We are doing a data analysis task for patients to study their inglammattion as per a new treatment for Arthiritis"
   ]
  },
  {
   "cell_type": "markdown",
   "metadata": {},
   "source": [
    "Data is in CSV format"
   ]
  },
  {
   "cell_type": "markdown",
   "metadata": {},
   "source": [
    "Data description\n",
    "- Each row has information for a single patient\n",
    "- Each column represents successive days of the clinical study\n",
    "- Each number represents the no. of inflammation bouts that a particular patient experienced on a given data\n",
    "\n",
    "Dummy Data\n",
    "\n",
    "0,0,1,3,1,2,4,7,8,3,3,3,10,5,7,4,7,7,12,18,6,13,11,11,7,7,4,6,8,8,4,4,5,7,3,4,2,3,0,0\n",
    "0,1,2,1,2,1,3,2,2,6,10,11,5,9,4,4,7,16,8,6,18,4,12,5,12,7,11,5,11,3,3,5,4,4,5,5,1,1,0,1\n",
    "0,1,1,3,3,2,6,2,5,9,5,7,4,5,4,15,5,11,9,10,19,14,12,17,7,12,11,7,4,2,10,5,4,2,2,3,2,2,1,1\n",
    "\n",
    "###### Final Task\n",
    "- Calculate average inflammation per day accross all patients\n",
    "- Plot results"
   ]
  },
  {
   "cell_type": "markdown",
   "metadata": {},
   "source": [
    "### Python Fundamentals"
   ]
  },
  {
   "cell_type": "code",
   "execution_count": 2,
   "metadata": {},
   "outputs": [
    {
     "data": {
      "text/plain": [
       "18"
      ]
     },
     "execution_count": 2,
     "metadata": {},
     "output_type": "execute_result"
    }
   ],
   "source": [
    "#Arthemetics\n",
    "\n",
    "3+5*3"
   ]
  },
  {
   "cell_type": "code",
   "execution_count": 4,
   "metadata": {},
   "outputs": [],
   "source": [
    "#Assigning the value to a variable. \n",
    "a=60"
   ]
  },
  {
   "cell_type": "markdown",
   "metadata": {},
   "source": [
    "Variable names can have alphanumerics and underscores. They can't start with a number and are case sensitive\n",
    "\n",
    "3 common data types are\n",
    "- integers [a=60]\n",
    "- floating point numbers or decimals [a=60.0]\n",
    "- strings [a='is a variable'] or [a=\"is a variable\"]\n"
   ]
  },
  {
   "cell_type": "code",
   "execution_count": 9,
   "metadata": {},
   "outputs": [
    {
     "name": "stdout",
     "output_type": "stream",
     "text": [
      "60\n",
      "my variable's value is  60\n",
      "my variable's value is  60\n",
      "10 added to my variable is  70\n"
     ]
    }
   ],
   "source": [
    "#Printing the value of the variable\n",
    "print(a)\n",
    "\n",
    "#printing multiple variables\n",
    "b=\"my variable's value is \"\n",
    "print (b,a)\n",
    "\n",
    "#printing string and a variable\n",
    "print(\"my variable's value is \",a)\n",
    "\n",
    "#arithmetic in print function\n",
    "print(\"10 added to my variable is \", a+10)"
   ]
  },
  {
   "cell_type": "code",
   "execution_count": 34,
   "metadata": {},
   "outputs": [
    {
     "ename": "TypeError",
     "evalue": "can't multiply sequence by non-int of type 'float'",
     "output_type": "error",
     "traceback": [
      "\u001b[1;31m---------------------------------------------------------------------------\u001b[0m",
      "\u001b[1;31mTypeError\u001b[0m                                 Traceback (most recent call last)",
      "\u001b[1;32m<ipython-input-34-9b9912a5cf16>\u001b[0m in \u001b[0;36m<module>\u001b[1;34m\u001b[0m\n\u001b[0;32m      2\u001b[0m \u001b[1;31m#decared based on the type of value it holds at the ti,e of initialization (as below)\u001b[0m\u001b[1;33m\u001b[0m\u001b[1;33m\u001b[0m\u001b[1;33m\u001b[0m\u001b[0m\n\u001b[0;32m      3\u001b[0m \u001b[0mb\u001b[0m\u001b[1;33m=\u001b[0m\u001b[1;34m\"a\"\u001b[0m\u001b[1;33m\u001b[0m\u001b[1;33m\u001b[0m\u001b[0m\n\u001b[1;32m----> 4\u001b[1;33m \u001b[0mb\u001b[0m\u001b[1;33m=\u001b[0m\u001b[0mb\u001b[0m\u001b[1;33m*\u001b[0m\u001b[1;36m1.5\u001b[0m\u001b[1;33m\u001b[0m\u001b[1;33m\u001b[0m\u001b[0m\n\u001b[0m\u001b[0;32m      5\u001b[0m \u001b[0mprint\u001b[0m\u001b[1;33m(\u001b[0m\u001b[0mb\u001b[0m\u001b[1;33m)\u001b[0m\u001b[1;33m\u001b[0m\u001b[1;33m\u001b[0m\u001b[0m\n",
      "\u001b[1;31mTypeError\u001b[0m: can't multiply sequence by non-int of type 'float'"
     ]
    }
   ],
   "source": [
    "#Python has a self decration, so the variable type gets \n",
    "#decared based on the type of value it holds at the ti,e of initialization (as below)\n",
    "b=\"a\"\n",
    "b=b*1.5\n",
    "print(b)"
   ]
  },
  {
   "cell_type": "code",
   "execution_count": 37,
   "metadata": {},
   "outputs": [
    {
     "name": "stdout",
     "output_type": "stream",
     "text": [
      "12.600000000000001\n"
     ]
    }
   ],
   "source": [
    "#Also, there are some errors in calcuation from FPU\n",
    "a=6\n",
    "a=a*2.1\n",
    "print(a)"
   ]
  },
  {
   "cell_type": "markdown",
   "metadata": {},
   "source": [
    "In actual terms, variable is a place in memory. It has a certain memory address and a name associated with it. The variable a refers to an address in the memory which holds n bytes of information. This number n is defined by the data type it holds and the way data is stored using python."
   ]
  },
  {
   "cell_type": "code",
   "execution_count": 39,
   "metadata": {},
   "outputs": [
    {
     "name": "stdout",
     "output_type": "stream",
     "text": [
      "95.0\n",
      "102\n"
     ]
    }
   ],
   "source": [
    "#small question\n",
    "mass=47.5\n",
    "age=122\n",
    "mass=mass*2.0\n",
    "age=age-20\n",
    "\n",
    "#Then the value of mass is updated and is equal to its initial value multiplied by 2\n",
    "#Similarly, the value of age is updated and is equal to its initial value minus 20\n",
    "print(mass)\n",
    "print(age)"
   ]
  },
  {
   "cell_type": "code",
   "execution_count": 40,
   "metadata": {},
   "outputs": [
    {
     "name": "stdout",
     "output_type": "stream",
     "text": [
      "Hopper Grace\n"
     ]
    }
   ],
   "source": [
    "#Assignment of 2 variables in one command\n",
    "first, second= 'Grace', 'Hopper'\n",
    "third, fourth=second, first\n",
    "print(third, fourth)"
   ]
  }
 ],
 "metadata": {
  "kernelspec": {
   "display_name": "Python 3",
   "language": "python",
   "name": "python3"
  },
  "language_info": {
   "codemirror_mode": {
    "name": "ipython",
    "version": 3
   },
   "file_extension": ".py",
   "mimetype": "text/x-python",
   "name": "python",
   "nbconvert_exporter": "python",
   "pygments_lexer": "ipython3",
   "version": "3.6.8"
  }
 },
 "nbformat": 4,
 "nbformat_minor": 4
}
