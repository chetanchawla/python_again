{
 "cells": [
  {
   "cell_type": "markdown",
   "metadata": {},
   "source": [
    "# Python Again"
   ]
  },
  {
   "cell_type": "markdown",
   "metadata": {},
   "source": [
    "### About"
   ]
  },
  {
   "cell_type": "markdown",
   "metadata": {},
   "source": [
    "Python is a powerful programming language having efficient high-level data structures and a simple but effective approach to object-oriented programming. It has a simple syntax and dynamic typing. Python is interpreted (not compiled). It is used for scripting and rapid application development. It can be categorized as a very-high-level language having high-level data types built in, such as flexible arrays and dictionaries\n",
    "\n",
    "Since Python is interpreted, the execution of code is line by line. Which means, each statement in Python is converted to machine language one by one while running them. This is in comparison to compiled languages in which, the whole code is analysed, parsed and converted into executable machine code before running the program. Compilers take more time analysing and converting the code, however as it is converted before-hand, the execution is faster. But in interpreted languages, we can do away with the write/compile/test/re-compile cycle, which is extremely slow while you are developing something."
   ]
  },
  {
   "cell_type": "markdown",
   "metadata": {},
   "source": [
    "The Python interpreter is easily extended with new functions and data types implemented in C or C++ (or other languages callable from C). Python is also suitable as an extension language for customizable applications."
   ]
  },
  {
   "cell_type": "markdown",
   "metadata": {},
   "source": [
    "Unix Shell scripts or Windows Batch scripts are best at moving around files and changing text data, not well-suited for GUI applications or games"
   ]
  },
  {
   "cell_type": "markdown",
   "metadata": {},
   "source": [
    "- Statement grouping in Python is done using indentation instead of opening-closing braces/parenthesis\n",
    "- There are no seperators for new lines; i.e.- semicolons are not necessary after each statement. New lines are used to seperate the commands\n",
    "- No Variable or argument declaration is needed. This is because Python is dynamically typed and typically assesses the data type of a variable at run-time"
   ]
  },
  {
   "cell_type": "markdown",
   "metadata": {},
   "source": [
    "##### Fun fact- Python is named after Monty Python's Flying Circus (A BBC Show)"
   ]
  },
  {
   "cell_type": "markdown",
   "metadata": {},
   "source": [
    "### Invoking the interpreter"
   ]
  },
  {
   "cell_type": "markdown",
   "metadata": {},
   "source": [
    "Python is stored in /usr/local/bin in linux machines. This is an environment path in Linux (Unix's shell search path). We can make Python path an environment variable so that it can be accessed from anywhere in the system as pytho/python3/python3.x"
   ]
  }
 ],
 "metadata": {
  "kernelspec": {
   "display_name": "Python 3",
   "language": "python",
   "name": "python3"
  },
  "language_info": {
   "codemirror_mode": {
    "name": "ipython",
    "version": 3
   },
   "file_extension": ".py",
   "mimetype": "text/x-python",
   "name": "python",
   "nbconvert_exporter": "python",
   "pygments_lexer": "ipython3",
   "version": "3.6.9"
  }
 },
 "nbformat": 4,
 "nbformat_minor": 4
}
